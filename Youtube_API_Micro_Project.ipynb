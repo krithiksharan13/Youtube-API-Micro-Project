{
  "nbformat": 4,
  "nbformat_minor": 0,
  "metadata": {
    "colab": {
      "provenance": []
    },
    "kernelspec": {
      "name": "python3",
      "display_name": "Python 3"
    },
    "language_info": {
      "name": "python"
    }
  },
  "cells": [
    {
      "cell_type": "code",
      "execution_count": 5,
      "metadata": {
        "colab": {
          "base_uri": "https://localhost:8080/"
        },
        "id": "bve4NQ3T751N",
        "outputId": "4b38dc59-6a97-47c4-d843-af78a09d70fc"
      },
      "outputs": [
        {
          "output_type": "stream",
          "name": "stdout",
          "text": [
            "Requirement already satisfied: pandas in /usr/local/lib/python3.11/dist-packages (2.2.2)\n",
            "Requirement already satisfied: google-auth in /usr/local/lib/python3.11/dist-packages (2.38.0)\n",
            "Requirement already satisfied: google-auth-oauthlib in /usr/local/lib/python3.11/dist-packages (1.2.1)\n",
            "Requirement already satisfied: google-auth-httplib2 in /usr/local/lib/python3.11/dist-packages (0.2.0)\n",
            "Requirement already satisfied: numpy>=1.23.2 in /usr/local/lib/python3.11/dist-packages (from pandas) (2.0.2)\n",
            "Requirement already satisfied: python-dateutil>=2.8.2 in /usr/local/lib/python3.11/dist-packages (from pandas) (2.8.2)\n",
            "Requirement already satisfied: pytz>=2020.1 in /usr/local/lib/python3.11/dist-packages (from pandas) (2025.1)\n",
            "Requirement already satisfied: tzdata>=2022.7 in /usr/local/lib/python3.11/dist-packages (from pandas) (2025.1)\n",
            "Requirement already satisfied: cachetools<6.0,>=2.0.0 in /usr/local/lib/python3.11/dist-packages (from google-auth) (5.5.2)\n",
            "Requirement already satisfied: pyasn1-modules>=0.2.1 in /usr/local/lib/python3.11/dist-packages (from google-auth) (0.4.1)\n",
            "Requirement already satisfied: rsa<5,>=3.1.4 in /usr/local/lib/python3.11/dist-packages (from google-auth) (4.9)\n",
            "Requirement already satisfied: requests-oauthlib>=0.7.0 in /usr/local/lib/python3.11/dist-packages (from google-auth-oauthlib) (2.0.0)\n",
            "Requirement already satisfied: httplib2>=0.19.0 in /usr/local/lib/python3.11/dist-packages (from google-auth-httplib2) (0.22.0)\n",
            "Requirement already satisfied: pyparsing!=3.0.0,!=3.0.1,!=3.0.2,!=3.0.3,<4,>=2.4.2 in /usr/local/lib/python3.11/dist-packages (from httplib2>=0.19.0->google-auth-httplib2) (3.2.1)\n",
            "Requirement already satisfied: pyasn1<0.7.0,>=0.4.6 in /usr/local/lib/python3.11/dist-packages (from pyasn1-modules>=0.2.1->google-auth) (0.6.1)\n",
            "Requirement already satisfied: six>=1.5 in /usr/local/lib/python3.11/dist-packages (from python-dateutil>=2.8.2->pandas) (1.17.0)\n",
            "Requirement already satisfied: oauthlib>=3.0.0 in /usr/local/lib/python3.11/dist-packages (from requests-oauthlib>=0.7.0->google-auth-oauthlib) (3.2.2)\n",
            "Requirement already satisfied: requests>=2.0.0 in /usr/local/lib/python3.11/dist-packages (from requests-oauthlib>=0.7.0->google-auth-oauthlib) (2.32.3)\n",
            "Requirement already satisfied: charset-normalizer<4,>=2 in /usr/local/lib/python3.11/dist-packages (from requests>=2.0.0->requests-oauthlib>=0.7.0->google-auth-oauthlib) (3.4.1)\n",
            "Requirement already satisfied: idna<4,>=2.5 in /usr/local/lib/python3.11/dist-packages (from requests>=2.0.0->requests-oauthlib>=0.7.0->google-auth-oauthlib) (3.10)\n",
            "Requirement already satisfied: urllib3<3,>=1.21.1 in /usr/local/lib/python3.11/dist-packages (from requests>=2.0.0->requests-oauthlib>=0.7.0->google-auth-oauthlib) (2.3.0)\n",
            "Requirement already satisfied: certifi>=2017.4.17 in /usr/local/lib/python3.11/dist-packages (from requests>=2.0.0->requests-oauthlib>=0.7.0->google-auth-oauthlib) (2025.1.31)\n"
          ]
        }
      ],
      "source": [
        "pip install pandas google-auth google-auth-oauthlib google-auth-httplib2\n"
      ]
    },
    {
      "cell_type": "markdown",
      "source": [
        "Copy your API Key here"
      ],
      "metadata": {
        "id": "-6Zal5Rp8Rsv"
      }
    },
    {
      "cell_type": "code",
      "source": [
        "import pandas as pd\n",
        "import re\n",
        "import requests\n",
        "\n",
        "# YouTube API Key\n",
        "API_KEY = \"API KEY\"\n",
        "\n",
        "# Function to extract video ID from a YouTube URL\n",
        "def extract_video_id(url):\n",
        "    match = re.search(r\"(?:v=|\\/)([0-9A-Za-z_-]{11})\", url)\n",
        "    return match.group(1) if match else None\n",
        "\n",
        "# Function to fetch video details\n",
        "def get_video_details(video_id):\n",
        "    url = f\"https://www.googleapis.com/youtube/v3/videos?part=contentDetails,snippet&id={video_id}&key={API_KEY}\"\n",
        "    response = requests.get(url)\n",
        "    data = response.json()\n",
        "\n",
        "    if \"items\" in data and len(data[\"items\"]) > 0:\n",
        "        video_data = data[\"items\"][0]\n",
        "        duration = video_data[\"contentDetails\"][\"duration\"]\n",
        "        channel_title = video_data[\"snippet\"][\"channelTitle\"]\n",
        "        return duration, channel_title\n",
        "    return None, None\n",
        "\n",
        "# Convert ISO 8601 duration format (PT#H#M#S) to seconds\n",
        "def convert_duration(duration):\n",
        "    match = re.match(r'PT(?:(\\d+)H)?(?:(\\d+)M)?(?:(\\d+)S)?', duration)\n",
        "    hours = int(match.group(1)) if match.group(1) else 0\n",
        "    minutes = int(match.group(2)) if match.group(2) else 0\n",
        "    seconds = int(match.group(3)) if match.group(3) else 0\n",
        "    return hours * 3600 + minutes * 60 + seconds\n",
        "\n",
        "# Load Excel file\n",
        "file_path = \"/content/Mini Drama List.xlsx\"  #file path\n",
        "df = pd.read_excel(file_path)\n",
        "\n",
        "# Ensure the file has columns 'Video Name' and 'YouTube Link'\n",
        "if 'YouTube Link' not in df.columns:\n",
        "    raise ValueError(\"Excel file must have a column named 'YouTube Link'\")\n",
        "\n",
        "# Process each video link\n",
        "durations = []\n",
        "channel_names = []\n",
        "\n",
        "for url in df[\"YouTube Link\"]:\n",
        "    video_id = extract_video_id(url)\n",
        "    if video_id:\n",
        "        duration, channel_name = get_video_details(video_id)\n",
        "        if duration:\n",
        "            durations.append(convert_duration(duration))\n",
        "            channel_names.append(channel_name)\n",
        "        else:\n",
        "            durations.append(None)\n",
        "            channel_names.append(None)\n",
        "    else:\n",
        "        durations.append(None)\n",
        "        channel_names.append(None)\n",
        "\n",
        "# Add results to DataFrame\n",
        "df[\"Duration (Seconds)\"] = durations\n",
        "df[\"YouTube Channel\"] = channel_names\n",
        "\n",
        "# Save the updated file\n",
        "output_file = \"Updated Drama List.xlsx\"\n",
        "df.to_excel(output_file, index=False)\n",
        "\n",
        "print(f\"Updated file saved as {output_file}\")\n"
      ],
      "metadata": {
        "colab": {
          "base_uri": "https://localhost:8080/"
        },
        "id": "itt4_UEE8SNQ",
        "outputId": "dd75d83c-baf5-4002-a36c-957b6507c77c"
      },
      "execution_count": 7,
      "outputs": [
        {
          "output_type": "stream",
          "name": "stdout",
          "text": [
            "Updated file saved as Updated Drama List.xlsx\n"
          ]
        }
      ]
    }
  ]
}
